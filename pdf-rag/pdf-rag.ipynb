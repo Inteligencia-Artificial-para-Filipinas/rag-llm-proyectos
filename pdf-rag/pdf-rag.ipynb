{
 "cells": [
  {
   "cell_type": "code",
   "execution_count": 15,
   "id": "f675b74a-3020-45a2-a302-5bd6688c7cc2",
   "metadata": {},
   "outputs": [],
   "source": [
    "import openai\n",
    "import langchain\n",
    "import pinecone \n",
    "from langchain.document_loaders import PyPDFDirectoryLoader\n",
    "from langchain.text_splitter import RecursiveCharacterTextSplitter\n",
    "from langchain.vectorstores import Pinecone\n",
    "from langchain.llms import OpenAI\n",
    "import os"
   ]
  },
  {
   "cell_type": "code",
   "execution_count": 16,
   "id": "f3e65a02-6b48-4afa-988c-92f8fd84b1ef",
   "metadata": {},
   "outputs": [
    {
     "data": {
      "text/plain": [
       "True"
      ]
     },
     "execution_count": 16,
     "metadata": {},
     "output_type": "execute_result"
    }
   ],
   "source": [
    "from dotenv import load_dotenv\n",
    "load_dotenv()"
   ]
  },
  {
   "cell_type": "markdown",
   "id": "b9b2aa79-2b1a-4899-9a71-25a58dad63ed",
   "metadata": {},
   "source": [
    "## Reading documents"
   ]
  },
  {
   "cell_type": "code",
   "execution_count": 17,
   "id": "afcf03e6-4945-42ad-a434-40fe46ca7017",
   "metadata": {},
   "outputs": [],
   "source": [
    "def read_documents_from_dir(directory):\n",
    "    file_loader = PyPDFDirectoryLoader(directory)\n",
    "    documents = file_loader.load()\n",
    "    return documents"
   ]
  },
  {
   "cell_type": "code",
   "execution_count": 18,
   "id": "3e04c494-51b1-471d-ad97-b61dd329bc0a",
   "metadata": {},
   "outputs": [
    {
     "data": {
      "text/plain": [
       "1"
      ]
     },
     "execution_count": 18,
     "metadata": {},
     "output_type": "execute_result"
    }
   ],
   "source": [
    "docs = read_documents_from_dir('pdfs/')\n",
    "len(docs)"
   ]
  },
  {
   "cell_type": "markdown",
   "id": "802d9fc4-88b9-4ba8-84ee-3d800b7f44e5",
   "metadata": {},
   "source": [
    "## Chunking documents"
   ]
  },
  {
   "cell_type": "code",
   "execution_count": 19,
   "id": "50521311-ae26-4f6b-8e47-e81494822aad",
   "metadata": {},
   "outputs": [],
   "source": [
    "def convert_docs_to_chunks(docs, chunk_size=800, chunk_overlap=50):\n",
    "    text_splitter = RecursiveCharacterTextSplitter(chunk_size=chunk_size, chunk_overlap=chunk_overlap)\n",
    "    docs = text_splitter.split_documents(docs)\n",
    "    return docs\n",
    "\n",
    "docs = convert_docs_to_chunks(docs)"
   ]
  },
  {
   "cell_type": "markdown",
   "id": "b4d714d4-3406-4e34-a4f9-865cbab77875",
   "metadata": {},
   "source": [
    "## Embedding LLM"
   ]
  },
  {
   "cell_type": "code",
   "execution_count": 20,
   "id": "840ae851-ae0c-47f8-afe0-947c5f82279f",
   "metadata": {},
   "outputs": [
    {
     "data": {
      "text/plain": [
       "OpenAIEmbeddings(client=<openai.resources.embeddings.Embeddings object at 0x12c856690>, async_client=<openai.resources.embeddings.AsyncEmbeddings object at 0x12c849550>, model='text-embedding-ada-002', dimensions=None, deployment='text-embedding-ada-002', openai_api_version='', openai_api_base=None, openai_api_type='', openai_proxy='', embedding_ctx_length=8191, openai_api_key=SecretStr('**********'), openai_organization=None, allowed_special=set(), disallowed_special='all', chunk_size=1000, max_retries=2, request_timeout=None, headers=None, tiktoken_enabled=True, tiktoken_model_name=None, show_progress_bar=False, model_kwargs={}, skip_empty=False, default_headers=None, default_query=None, retry_min_seconds=4, retry_max_seconds=20, http_client=None, http_async_client=None)"
      ]
     },
     "execution_count": 20,
     "metadata": {},
     "output_type": "execute_result"
    }
   ],
   "source": [
    "from langchain_openai import OpenAIEmbeddings\n",
    "embeddings = OpenAIEmbeddings(api_key = os.environ['OPENAI_API_KEY'])\n",
    "embeddings"
   ]
  },
  {
   "cell_type": "code",
   "execution_count": 21,
   "id": "bb998492-654e-4db0-a264-236c490d2b80",
   "metadata": {},
   "outputs": [
    {
     "data": {
      "text/plain": [
       "1536"
      ]
     },
     "execution_count": 21,
     "metadata": {},
     "output_type": "execute_result"
    }
   ],
   "source": [
    "test_vectors = embeddings.embed_query(\"Who is hitler?\")\n",
    "len(test_vectors)"
   ]
  },
  {
   "cell_type": "markdown",
   "id": "00e26799-920a-40f7-b7f4-7d80d80444e3",
   "metadata": {},
   "source": [
    "## Vector DB"
   ]
  },
  {
   "cell_type": "code",
   "execution_count": 22,
   "id": "b7dcd693-5d33-4112-87e0-e0c335e82295",
   "metadata": {},
   "outputs": [],
   "source": [
    "from langchain_pinecone import PineconeVectorStore\n",
    "\n",
    "index_name = \"sample-index\"\n",
    "\n",
    "pinecone = PineconeVectorStore.from_documents(\n",
    "    docs, embeddings, index_name=index_name\n",
    ")"
   ]
  },
  {
   "cell_type": "markdown",
   "id": "8e4a9805-6408-4525-a89f-c99f6dc22dd1",
   "metadata": {},
   "source": [
    "## Query LLM"
   ]
  },
  {
   "cell_type": "code",
   "execution_count": 23,
   "id": "9d6c9159-8205-4436-b7a3-196048002267",
   "metadata": {},
   "outputs": [],
   "source": [
    "def retrieve_query(query,k=2):\n",
    "    matching_results = pinecone.similarity_search(query,k=k)\n",
    "    return matching_results"
   ]
  },
  {
   "cell_type": "code",
   "execution_count": 24,
   "id": "e3844311-8719-4ce7-8c15-92d2743ec307",
   "metadata": {},
   "outputs": [],
   "source": [
    "from langchain_openai import ChatOpenAI\n",
    "from langchain_core.runnables import RunnablePassthrough\n",
    "from langchain_core.output_parsers import StrOutputParser\n",
    "from langchain import hub\n",
    "\n",
    "llm = ChatOpenAI(model=\"gpt-3.5-turbo-0125\")\n",
    "retriever = pinecone.as_retriever()\n",
    "prompt = hub.pull(\"rlm/rag-prompt\")\n",
    "\n",
    "rag_chain = (\n",
    "    {\"context\": retriever, \"question\": RunnablePassthrough()}\n",
    "    | prompt\n",
    "    | llm\n",
    "    | StrOutputParser()\n",
    ")"
   ]
  },
  {
   "cell_type": "markdown",
   "id": "5cdf939d-2338-4df6-b09a-c62ba9f5a45f",
   "metadata": {},
   "source": [
    "## Example"
   ]
  },
  {
   "cell_type": "code",
   "execution_count": 33,
   "id": "241842f4-da8b-4e51-bcf7-f6d8422e1683",
   "metadata": {},
   "outputs": [
    {
     "data": {
      "text/plain": [
       "'The total of your units in the PMMF UITF is 206.1112, with a corresponding amount of 358,037.74 PHP as of the latest transaction date provided in the document.'"
      ]
     },
     "execution_count": 33,
     "metadata": {},
     "output_type": "execute_result"
    }
   ],
   "source": [
    "rag_chain.invoke(\"total of my units?\")"
   ]
  },
  {
   "cell_type": "code",
   "execution_count": null,
   "id": "d0ded167-106e-4a36-afb0-f7fefe9a762a",
   "metadata": {},
   "outputs": [],
   "source": []
  }
 ],
 "metadata": {
  "kernelspec": {
   "display_name": "Python 3 (ipykernel)",
   "language": "python",
   "name": "python3"
  },
  "language_info": {
   "codemirror_mode": {
    "name": "ipython",
    "version": 3
   },
   "file_extension": ".py",
   "mimetype": "text/x-python",
   "name": "python",
   "nbconvert_exporter": "python",
   "pygments_lexer": "ipython3",
   "version": "3.12.3"
  }
 },
 "nbformat": 4,
 "nbformat_minor": 5
}
